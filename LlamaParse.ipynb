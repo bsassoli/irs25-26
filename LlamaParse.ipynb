{
 "cells": [
  {
   "cell_type": "code",
   "execution_count": 20,
   "id": "9c26a6e5-4f7f-4cb2-a3a7-514b3797502b",
   "metadata": {},
   "outputs": [],
   "source": [
    "import chromadb\n",
    "from typing import List\n",
    "from dotenv import load_dotenv\n",
    "from llama_index.vector_stores.chroma import ChromaVectorStore\n",
    "from llama_index.core.schema import Document, TextNode\n",
    "from llama_index.core import VectorStoreIndex, SimpleDirectoryReader, StorageContext, Settings\n",
    "from llama_index.core.node_parser import MarkdownNodeParser, SentenceSplitter\n",
    "from llama_index.llms.openai import OpenAI\n",
    "from llama_index.embeddings.openai import OpenAIEmbedding"
   ]
  },
  {
   "cell_type": "code",
   "execution_count": 2,
   "id": "7c7927ed-a398-41ee-9d35-7f0192e59f72",
   "metadata": {},
   "outputs": [
    {
     "data": {
      "text/plain": [
       "True"
      ]
     },
     "execution_count": 2,
     "metadata": {},
     "output_type": "execute_result"
    }
   ],
   "source": [
    "load_dotenv()"
   ]
  },
  {
   "cell_type": "code",
   "execution_count": 3,
   "id": "5e65e971-720c-4f2d-83fb-c1f3b7a77441",
   "metadata": {},
   "outputs": [],
   "source": [
    "class HybridMarkdownSentenceParser:\n",
    "    def __init__(self, chunk_size: int = 512, chunk_overlap: int = 50):\n",
    "        self.markdown_parser = MarkdownNodeParser()\n",
    "        self.sentence_splitter = SentenceSplitter(chunk_size=chunk_size, chunk_overlap=chunk_overlap)\n",
    "\n",
    "    def get_nodes_from_documents(self, documents: List[Document]) -> List[TextNode]:\n",
    "        # First, parse the documents using the Markdown parser\n",
    "        markdown_nodes = self.markdown_parser.get_nodes_from_documents(documents)\n",
    "        final_nodes = []\n",
    "\n",
    "        for node in markdown_nodes:\n",
    "            # If the node's text exceeds the chunk size, split it further\n",
    "            if len(node.text.split()) > self.sentence_splitter.chunk_size:\n",
    "                # Create a temporary Document for sentence splitting\n",
    "                temp_doc = Document(text=node.text)\n",
    "                # Split the text into smaller chunks\n",
    "                split_nodes = self.sentence_splitter.get_nodes_from_documents([temp_doc])\n",
    "                # Preserve metadata from the original node\n",
    "                for split_node in split_nodes:\n",
    "                    split_node.metadata.update(node.metadata)\n",
    "                final_nodes.extend(split_nodes)\n",
    "            else:\n",
    "                final_nodes.append(node)\n",
    "\n",
    "        return final_nodes"
   ]
  },
  {
   "cell_type": "code",
   "execution_count": 4,
   "id": "2aa2db35-3378-4420-bbcd-a42dbb34b4ce",
   "metadata": {},
   "outputs": [],
   "source": [
    "# Load your Markdown documents\n",
    "documents = SimpleDirectoryReader(\"data\").load_data()\n",
    "\n",
    "# Initialize the hybrid parser\n",
    "hybrid_parser = HybridMarkdownSentenceParser(chunk_size=512, chunk_overlap=50)\n",
    "\n",
    "# Generate nodes using the hybrid parser\n",
    "nodes = hybrid_parser.get_nodes_from_documents(documents)"
   ]
  },
  {
   "cell_type": "code",
   "execution_count": 5,
   "id": "d3f889e2-da7c-41a0-a4b3-5b77fa012f5f",
   "metadata": {},
   "outputs": [],
   "source": [
    "chroma_client = chromadb.PersistentClient()\n",
    "chroma_collection = chroma_client.get_or_create_collection(\"recipes_for_science\")\n",
    "vector_store = ChromaVectorStore(chroma_collection=chroma_collection)\n",
    "storage_context = StorageContext.from_defaults(vector_store=vector_store)\n",
    "index = VectorStoreIndex(nodes, storage_context=storage_context)"
   ]
  },
  {
   "cell_type": "code",
   "execution_count": 17,
   "id": "15bf9797-adec-4edd-bf9c-c8a5670bad0d",
   "metadata": {},
   "outputs": [
    {
     "ename": "NameError",
     "evalue": "name 'HuggingFaceInferenceAPI' is not defined",
     "output_type": "error",
     "traceback": [
      "\u001b[31m---------------------------------------------------------------------------\u001b[39m",
      "\u001b[31mNameError\u001b[39m                                 Traceback (most recent call last)",
      "\u001b[36mCell\u001b[39m\u001b[36m \u001b[39m\u001b[32mIn[17]\u001b[39m\u001b[32m, line 1\u001b[39m\n\u001b[32m----> \u001b[39m\u001b[32m1\u001b[39m llm = \u001b[43mHuggingFaceInferenceAPI\u001b[49m(model_name=\u001b[33m\"\u001b[39m\u001b[33mQwen/Qwen2.5-Coder-32B-Instruct\u001b[39m\u001b[33m\"\u001b[39m)\n\u001b[32m      2\u001b[39m query_engine = index.as_chat_engine()\n",
      "\u001b[31mNameError\u001b[39m: name 'HuggingFaceInferenceAPI' is not defined"
     ]
    }
   ],
   "source": [
    "llm = HuggingFaceInferenceAPI(model_name=\"Qwen/Qwen2.5-Coder-32B-Instruct\")\n",
    "query_engine = index.as_chat_engine(llm=llm)"
   ]
  },
  {
   "cell_type": "code",
   "execution_count": 14,
   "id": "bd6235e8-9b53-43a8-8a73-db0447955a25",
   "metadata": {},
   "outputs": [],
   "source": [
    "response = query_engine.query(\"In what year did Herschel observe sunspots?\")"
   ]
  },
  {
   "cell_type": "code",
   "execution_count": 15,
   "id": "fa06e6ec-e2a3-4bd8-9341-b0b8517729a3",
   "metadata": {},
   "outputs": [
    {
     "name": "stdout",
     "output_type": "stream",
     "text": [
      "Herschel observed sunspots at some point during his investigations, but the specific year in which he made this observation is not provided in the context information.\n"
     ]
    }
   ],
   "source": [
    "print(response.response)"
   ]
  },
  {
   "cell_type": "code",
   "execution_count": null,
   "id": "7d6aae1e-9329-4744-b3cc-da5219f57191",
   "metadata": {},
   "outputs": [],
   "source": []
  }
 ],
 "metadata": {
  "kernelspec": {
   "display_name": "Python 3 (ipykernel)",
   "language": "python",
   "name": "python3"
  },
  "language_info": {
   "codemirror_mode": {
    "name": "ipython",
    "version": 3
   },
   "file_extension": ".py",
   "mimetype": "text/x-python",
   "name": "python",
   "nbconvert_exporter": "python",
   "pygments_lexer": "ipython3",
   "version": "3.11.11"
  }
 },
 "nbformat": 4,
 "nbformat_minor": 5
}
